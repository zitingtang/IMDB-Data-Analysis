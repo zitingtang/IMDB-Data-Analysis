{
 "cells": [
  {
   "cell_type": "markdown",
   "metadata": {},
   "source": [
    "# IMDb Datasets Analysis to Predict the Average Rating"
   ]
  },
  {
   "cell_type": "markdown",
   "metadata": {},
   "source": [
    "                                                                                        Ziting Tang   08/25/2019"
   ]
  },
  {
   "cell_type": "markdown",
   "metadata": {},
   "source": [
    "# Data Cleaning"
   ]
  },
  {
   "cell_type": "code",
   "execution_count": 49,
   "metadata": {},
   "outputs": [],
   "source": [
    "import numpy as np \n",
    "import pandas as pd \n",
    "import seaborn as sns\n",
    "import matplotlib.pyplot as plt\n",
    "import pyspark \n",
    "from pyspark.sql import SparkSession\n",
    "from sklearn.metrics import r2_score,mean_squared_error,mean_absolute_error\n",
    "from sklearn.linear_model import LinearRegression \n",
    "from sklearn.model_selection import train_test_split\n",
    "from sklearn.impute import SimpleImputer\n",
    "from sklearn.preprocessing import StandardScaler \n",
    "from sklearn.preprocessing import OneHotEncoder\n",
    "from sklearn.preprocessing import LabelEncoder\n",
    "from sklearn.preprocessing import PolynomialFeatures\n",
    "from sklearn.tree import DecisionTreeRegressor  \n",
    "from sklearn.ensemble import RandomForestRegressor"
   ]
  },
  {
   "cell_type": "markdown",
   "metadata": {},
   "source": [
    "There are seven datasets on https://www.imdb.com/interfaces/. Here I used three of them to analysize the average rating. The variable avreageRating is only included dataset TitleRatings.tsv. The other two data sets are joined with dataset TitleRatings.tsv according to the variable tconst, which is the alphanumeric unique identifier of the title.\n",
    "Since the size of all data sets are very large. The PySpark package is used to read the datasets. "
   ]
  },
  {
   "cell_type": "code",
   "execution_count": 2,
   "metadata": {},
   "outputs": [],
   "source": [
    "spark = SparkSession.builder.getOrCreate()\n",
    "#dfTitleBasics= spark.read.options(header='true', inferschema='true', delimiter='\\t').csv(\"C:/Users/Ziting Tang/Desktop/Audible/TitleBasics.tsv\")  \n",
    "#dfTitleCrew = spark.read.options(header='true', inferschema='true', delimiter='\\t').csv(\"C:/Users/Ziting Tang/Desktop/Audible/TitleCrew.tsv\")  \n",
    "#dfTitleRatings = spark.read.options(header='true', inferschema='true', delimiter='\\t').csv(\"C:/Users/Ziting Tang/Desktop/Audible/TitleRatings.tsv\") \n",
    "dfTitleBasics= spark.read.options(header='true', inferschema='true', delimiter='\\t').csv(\"C:/Users/Kang/Desktop/Audible/TitleBasics.tsv\")  \n",
    "dfTitleCrew = spark.read.options(header='true', inferschema='true', delimiter='\\t').csv(\"C:/Users/Kang/Desktop/Audible/TitleCrew.tsv\")\n",
    "dfTitleRatings = spark.read.options(header='true', inferschema='true', delimiter='\\t').csv(\"C:/Users/Kang/Desktop/Audible/TitleRatings.tsv\") "
   ]
  },
  {
   "cell_type": "markdown",
   "metadata": {},
   "source": [
    "From below, we can see all the variables from the combined dataset df: tconst, averageRating, numVotes, titleType, \n",
    "primaryTitle, originalTitle, isAdult, startYear, endYear, runtimeMinutes, genres, directors and writers. A '\\N' is used to denote that a particular field is missing or null for that title/name. In Python, '\\N' is represented by '\\\\\\N'."
   ]
  },
  {
   "cell_type": "code",
   "execution_count": null,
   "metadata": {},
   "outputs": [],
   "source": [
    "df = dfTitleRatings.join(dfTitleBasics, on=['tconst'], how='left_outer').join(dfTitleCrew, on=['tconst'], how='left_outer')\n",
    "df.show(5)"
   ]
  },
  {
   "cell_type": "code",
   "execution_count": 4,
   "metadata": {},
   "outputs": [
    {
     "data": {
      "text/plain": [
       "Row(tconst='tt0000658', averageRating=6.4, numVotes=148, titleType='short', primaryTitle=\"The Puppet's Nightmare\", originalTitle='Le cauchemar de Fantoche', isAdult=0, startYear='1908', endYear='\\\\N', runtimeMinutes='2', genres='Animation,Short', directors='nm0169871', writers='\\\\N')"
      ]
     },
     "execution_count": 4,
     "metadata": {},
     "output_type": "execute_result"
    }
   ],
   "source": [
    "df.head()"
   ]
  },
  {
   "cell_type": "code",
   "execution_count": 5,
   "metadata": {},
   "outputs": [
    {
     "name": "stdout",
     "output_type": "stream",
     "text": [
      "      tconst  averageRating  numVotes titleType                primaryTitle  \\\n",
      "0  tt0000658            6.4       148     short      The Puppet's Nightmare   \n",
      "1  tt0001732            7.1         8     short       The Lighthouse Keeper   \n",
      "2  tt0002253            4.2         5     short                  Home Folks   \n",
      "3  tt0002473            6.8        57     short            The Sands of Dee   \n",
      "4  tt0002588            6.8        10     short  Zigomar contre Nick Carter   \n",
      "\n",
      "                originalTitle  isAdult startYear endYear runtimeMinutes  \\\n",
      "0    Le cauchemar de Fantoche        0      1908      \\N              2   \n",
      "1       The Lighthouse Keeper        0      1911      \\N             \\N   \n",
      "2                  Home Folks        0      1912      \\N             17   \n",
      "3            The Sands of Dee        0      1912      \\N             17   \n",
      "4  Zigomar contre Nick Carter        0      1912      \\N             18   \n",
      "\n",
      "            genres  directors              writers  \n",
      "0  Animation,Short  nm0169871                   \\N  \n",
      "1      Drama,Short  nm0408436                   \\N  \n",
      "2      Drama,Short  nm0000428            nm0940488  \n",
      "3    Romance,Short  nm0000428            nm0455504  \n",
      "4            Short  nm0419327  nm0419327,nm0768577  \n",
      "<class 'pandas.core.frame.DataFrame'>\n",
      "RangeIndex: 964364 entries, 0 to 964363\n",
      "Data columns (total 13 columns):\n",
      "tconst            964364 non-null object\n",
      "averageRating     964364 non-null float64\n",
      "numVotes          964364 non-null int32\n",
      "titleType         964364 non-null object\n",
      "primaryTitle      964364 non-null object\n",
      "originalTitle     964364 non-null object\n",
      "isAdult           964364 non-null int32\n",
      "startYear         964364 non-null object\n",
      "endYear           964364 non-null object\n",
      "runtimeMinutes    964364 non-null object\n",
      "genres            964364 non-null object\n",
      "directors         964364 non-null object\n",
      "writers           964364 non-null object\n",
      "dtypes: float64(1), int32(2), object(10)\n",
      "memory usage: 88.3+ MB\n"
     ]
    }
   ],
   "source": [
    "data=df.toPandas()   # convert df in SparkSession to Pandas data frame\n",
    "print(data.head())\n",
    "data.info()"
   ]
  },
  {
   "cell_type": "code",
   "execution_count": 6,
   "metadata": {},
   "outputs": [
    {
     "data": {
      "text/html": [
       "<div>\n",
       "<style scoped>\n",
       "    .dataframe tbody tr th:only-of-type {\n",
       "        vertical-align: middle;\n",
       "    }\n",
       "\n",
       "    .dataframe tbody tr th {\n",
       "        vertical-align: top;\n",
       "    }\n",
       "\n",
       "    .dataframe thead th {\n",
       "        text-align: right;\n",
       "    }\n",
       "</style>\n",
       "<table border=\"1\" class=\"dataframe\">\n",
       "  <thead>\n",
       "    <tr style=\"text-align: right;\">\n",
       "      <th></th>\n",
       "      <th>averageRating</th>\n",
       "      <th>numVotes</th>\n",
       "      <th>isAdult</th>\n",
       "    </tr>\n",
       "  </thead>\n",
       "  <tbody>\n",
       "    <tr>\n",
       "      <td>count</td>\n",
       "      <td>964364.000000</td>\n",
       "      <td>9.643640e+05</td>\n",
       "      <td>964364.000000</td>\n",
       "    </tr>\n",
       "    <tr>\n",
       "      <td>mean</td>\n",
       "      <td>6.890414</td>\n",
       "      <td>9.633980e+02</td>\n",
       "      <td>0.018691</td>\n",
       "    </tr>\n",
       "    <tr>\n",
       "      <td>std</td>\n",
       "      <td>1.401085</td>\n",
       "      <td>1.564202e+04</td>\n",
       "      <td>0.135432</td>\n",
       "    </tr>\n",
       "    <tr>\n",
       "      <td>min</td>\n",
       "      <td>1.000000</td>\n",
       "      <td>5.000000e+00</td>\n",
       "      <td>0.000000</td>\n",
       "    </tr>\n",
       "    <tr>\n",
       "      <td>25%</td>\n",
       "      <td>6.100000</td>\n",
       "      <td>9.000000e+00</td>\n",
       "      <td>0.000000</td>\n",
       "    </tr>\n",
       "    <tr>\n",
       "      <td>50%</td>\n",
       "      <td>7.100000</td>\n",
       "      <td>2.000000e+01</td>\n",
       "      <td>0.000000</td>\n",
       "    </tr>\n",
       "    <tr>\n",
       "      <td>75%</td>\n",
       "      <td>7.900000</td>\n",
       "      <td>7.700000e+01</td>\n",
       "      <td>0.000000</td>\n",
       "    </tr>\n",
       "    <tr>\n",
       "      <td>max</td>\n",
       "      <td>10.000000</td>\n",
       "      <td>2.125804e+06</td>\n",
       "      <td>1.000000</td>\n",
       "    </tr>\n",
       "  </tbody>\n",
       "</table>\n",
       "</div>"
      ],
      "text/plain": [
       "       averageRating      numVotes        isAdult\n",
       "count  964364.000000  9.643640e+05  964364.000000\n",
       "mean        6.890414  9.633980e+02       0.018691\n",
       "std         1.401085  1.564202e+04       0.135432\n",
       "min         1.000000  5.000000e+00       0.000000\n",
       "25%         6.100000  9.000000e+00       0.000000\n",
       "50%         7.100000  2.000000e+01       0.000000\n",
       "75%         7.900000  7.700000e+01       0.000000\n",
       "max        10.000000  2.125804e+06       1.000000"
      ]
     },
     "execution_count": 6,
     "metadata": {},
     "output_type": "execute_result"
    }
   ],
   "source": [
    "data.describe()"
   ]
  },
  {
   "cell_type": "markdown",
   "metadata": {},
   "source": [
    "We can see that for three numeric variables averageRating, numVotes and isAdult, there are no missing values. They're all positive. There are no weird values."
   ]
  },
  {
   "cell_type": "code",
   "execution_count": 9,
   "metadata": {
    "scrolled": true
   },
   "outputs": [
    {
     "name": "stdout",
     "output_type": "stream",
     "text": [
      "tconst               964364\t ['tt0000001', 'tt0000002', 'tt0000003', 'tt0000004', 'tt0000005']\n",
      "averageRating            91\t [1.0, 1.1, 1.2, 1.3, 1.4]\n",
      "numVotes              17210\t [5, 6, 7, 8, 9]\n",
      "titleType                10\t ['movie', 'short', 'tvEpisode', 'tvMiniSeries', 'tvMovie']\n",
      "primaryTitle         742455\t ['!Next?', '!Women Art Revolution', '\"#selfie\" by The Chainsmokers', '\"1 jikan buchi nuki de Sasuke ga ô abare dattebayo supesharu\": Arashi o yobu otoko!! Sasuke no gejimayu-ryû taijutsu!', '\"1 jikan buchi nuki de Sasuke ga ô abare dattebayo supesharu\": Date ni okureta wake janai! Kyûkyoku ôgi - Chidori tanjô!!']\n",
      "originalTitle        752860\t ['!Next?', '\"#selfie\" by The Chainsmokers', '\"1 jikan buchi nuki de Sasuke ga ô abare dattebayo supesharu\": Arashi o yobu otoko!! Sasuke no gejimayu-ryû taijutsu!', '\"1 jikan buchi nuki de Sasuke ga ô abare dattebayo supesharu\": Date ni okureta wake janai! Kyûkyoku ôgi - Chidori tanjô!!', '\"1\" More']\n",
      "isAdult                   2\t [0, 1]\n",
      "startYear               139\t ['1874', '1878', '1881', '1883', '1885']\n",
      "endYear                  76\t ['1927', '1933', '1939', '1949', '1950']\n",
      "runtimeMinutes          658\t ['0', '1', '10', '100', '1000']\n",
      "genres                 1945\t ['Action', 'Action,Adult', 'Action,Adult,Adventure', 'Action,Adult,Animation', 'Action,Adult,Comedy']\n",
      "directors            236346\t ['\\\\N', 'nm0000005', 'nm0000008', 'nm0000009,nm0169065', 'nm0000010']\n",
      "writers              410926\t ['\\\\N', 'nm0000005', 'nm0000005,nm0110119', 'nm0000005,nm0279027', 'nm0000005,nm0340471']\n"
     ]
    }
   ],
   "source": [
    "for column in data.columns:\n",
    "    uniques = sorted(data[column].unique())\n",
    "    print('{0:20s} {1:6d}\\t'.format(column, len(uniques)), uniques[:5])"
   ]
  },
  {
   "cell_type": "markdown",
   "metadata": {},
   "source": [
    "From above, we can see the number of unique values for each variable and the first five unique values. There are no missing values for four variables tconst, averageRating, numVotes, isAdult. Since the unique values for variables tconst, primaryTitle and originalTitle are too large, these three variables won't be used in the model."
   ]
  },
  {
   "cell_type": "code",
   "execution_count": 82,
   "metadata": {},
   "outputs": [
    {
     "name": "stdout",
     "output_type": "stream",
     "text": [
      "tconst               964364\t ['tt0000001', 'tt0000002']\n",
      "averageRating            91\t [1.0, 1.1]\n",
      "numVotes              17210\t [5, 6]\n",
      "titleType                10\t ['movie', 'short']\n",
      "primaryTitle         742455\t ['!Next?', '!Women Art Revolution']\n",
      "originalTitle        752860\t ['!Next?', '\"#selfie\" by The Chainsmokers']\n",
      "isAdult                   2\t [0, 1]\n",
      "startYear               139\t ['1874', '1878']\n",
      "endYear                  76\t ['1927', '1933']\n",
      "runtimeMinutes          658\t ['0', '1']\n",
      "genres                 1945\t ['Action', 'Action,Adult']\n",
      "directors            236346\t ['\\\\N', 'nm0000005']\n",
      "writers              410926\t ['\\\\N', 'nm0000005']\n"
     ]
    }
   ],
   "source": [
    "for column in data.columns:\n",
    "    uniques = sorted(data[column].unique())\n",
    "    print('{0:20s} {1:6d}\\t'.format(column, len(uniques)), uniques[:2])"
   ]
  },
  {
   "cell_type": "code",
   "execution_count": 45,
   "metadata": {},
   "outputs": [
    {
     "name": "stdout",
     "output_type": "stream",
     "text": [
      "0\n",
      "0\n",
      "3\n",
      "109\n",
      "943583\n",
      "262733\n",
      "22978\n"
     ]
    }
   ],
   "source": [
    "print(data[data[\"titleType\"]=='\\\\N'].shape[0]) #0\n",
    "print(data[data[\"primaryTitle\"]=='\\\\N'].shape[0]) #0\n",
    "print(data[data[\"originalTitle\"]=='\\\\N'].shape[0]) #3\n",
    "print(data[data[\"startYear\"]=='\\\\N'].shape[0]) # 109\n",
    "print(data[data[\"endYear\"]=='\\\\N'].shape[0]) # 943583\n",
    "print(data[data[\"runtimeMinutes\"]=='\\\\N'].shape[0]) # 262733\n",
    "print(data[data[\"genres\"]=='\\\\N'].shape[0]) # 22978\n"
   ]
  },
  {
   "cell_type": "markdown",
   "metadata": {},
   "source": [
    "There is no missing value for variable titleType. The number of missing values for variable endYear is 943583. Almost all are missing values for endYear, so drop endYear."
   ]
  },
  {
   "cell_type": "code",
   "execution_count": 8,
   "metadata": {},
   "outputs": [
    {
     "name": "stdout",
     "output_type": "stream",
     "text": [
      "tconst                   0\n",
      "averageRating            0\n",
      "numVotes                 0\n",
      "titleType                0\n",
      "primaryTitle             0\n",
      "originalTitle            3\n",
      "isAdult                  0\n",
      "startYear              109\n",
      "endYear             943583\n",
      "runtimeMinutes      262733\n",
      "genres               22978\n",
      "directors           136689\n",
      "writers             211281\n"
     ]
    }
   ],
   "source": [
    "for column in data.columns:\n",
    "    NMissing=data[data[column]=='\\\\N'].shape[0]\n",
    "    print('{0:20s}{1:6d}'.format(column,NMissing))"
   ]
  },
  {
   "cell_type": "code",
   "execution_count": 87,
   "metadata": {},
   "outputs": [
    {
     "name": "stdout",
     "output_type": "stream",
     "text": [
      "averageRating            0\n",
      "numVotes                 0\n",
      "titleType                0\n",
      "isAdult                  0\n",
      "startYear              109\n",
      "endYear             943583\n",
      "runtimeMinutes      262733\n",
      "genres               22978\n",
      "directors           136689\n",
      "writers             211281\n"
     ]
    }
   ],
   "source": [
    "for column in data.columns:\n",
    "    if column not in ['tconst', 'primaryTitle', 'originalTitle']:\n",
    "        NMissing=data[data[column]=='\\\\N'].shape[0]\n",
    "        print('{0:20s}{1:6d}'.format(column,NMissing))"
   ]
  },
  {
   "cell_type": "code",
   "execution_count": 91,
   "metadata": {},
   "outputs": [
    {
     "data": {
      "text/plain": [
       "(array([309056.,  66459.,  49243.,  52392.,  45002.,  30705.,  46655.,\n",
       "         57803.,  43132.,  10647.]),\n",
       " array([  0.,  10.,  20.,  30.,  40.,  50.,  60.,  70.,  80.,  90., 100.]),\n",
       " <a list of 10 Patch objects>)"
      ]
     },
     "execution_count": 91,
     "metadata": {},
     "output_type": "execute_result"
    },
    {
     "data": {
      "image/png": "[encoded data removed]",
      "text/plain": [
       "<Figure size 432x288 with 1 Axes>"
      ]
     },
     "metadata": {
      "needs_background": "light"
     },
     "output_type": "display_data"
    }
   ],
   "source": [
    "plt.hist(data['runtimeMinutes'], range=[0,100])"
   ]
  },
  {
   "cell_type": "code",
   "execution_count": 9,
   "metadata": {},
   "outputs": [
    {
     "name": "stdout",
     "output_type": "stream",
     "text": [
      "\\N                     136689\n",
      "nm1337210                2848\n",
      "nm3766090                1085\n",
      "nm0123273                 910\n",
      "nm2078274                 645\n",
      "nm3005544                 635\n",
      "nm0842611                 594\n",
      "nm1121649                 563\n",
      "nm0053484,nm0360253       561\n",
      "nm0669120                 555\n",
      "Name: directors, dtype: int64\n",
      "\\N                               211281\n",
      "nm3005544                           865\n",
      "nm3766090                           862\n",
      "nm1108327                           861\n",
      "nm0868066                           752\n",
      "nm1444457                           670\n",
      "nm0663789                           599\n",
      "nm2095966,nm2242949,nm0846969       595\n",
      "nm1121649                           586\n",
      "nm0242472                           554\n",
      "Name: writers, dtype: int64\n"
     ]
    }
   ],
   "source": [
    "print(data[\"directors\"].value_counts(dropna=False).head(10))\n",
    "print(data[\"writers\"].value_counts(dropna=False).head(10))"
   ]
  },
  {
   "cell_type": "markdown",
   "metadata": {},
   "source": [
    "There's not enough information for missing directors and writers. It is not appropriate to impute missing values with the mode. \n",
    "For valid directors and writers, the number for each category are less than 3000. The largest numbers are 2848 and 865 for directors and writers, respectively. But for missing values, the numbers are 136689 and 211281 for directors and writers, respectively. There are too many missing values. It is not appropriate to treat them as separate category and use them as a different level. For simplicity, rows/observations of the data with missing directors and writers will be dropped. \n",
    "\n",
    "Currently, the varaibles averageRating, numVotes, titleType, isAdult, startYear, runtimeMinutes, genres, directors and writers are kept in the data set.  "
   ]
  },
  {
   "cell_type": "code",
   "execution_count": 50,
   "metadata": {},
   "outputs": [
    {
     "name": "stdout",
     "output_type": "stream",
     "text": [
      "Comedy                        86941\n",
      "Drama                         72781\n",
      "Documentary                   53645\n",
      "Action,Adventure,Animation    24208\n",
      "\\N                            22978\n",
      "Reality-TV                    20416\n",
      "Short                         19371\n",
      "Comedy,Drama                  18403\n",
      "Drama,Romance                 18335\n",
      "Crime,Drama,Mystery           18056\n",
      "Name: genres, dtype: int64\n"
     ]
    }
   ],
   "source": [
    "print(data[\"genres\"].value_counts(dropna=False).head(10))"
   ]
  },
  {
   "cell_type": "code",
   "execution_count": 51,
   "metadata": {},
   "outputs": [
    {
     "name": "stdout",
     "output_type": "stream",
     "text": [
      "<class 'pandas.core.frame.DataFrame'>\n",
      "Int64Index: 708102 entries, 2 to 964363\n",
      "Data columns (total 9 columns):\n",
      "averageRating     708102 non-null float64\n",
      "numVotes          708102 non-null int32\n",
      "titleType         708102 non-null object\n",
      "isAdult           708102 non-null int32\n",
      "startYear         708102 non-null object\n",
      "runtimeMinutes    708102 non-null object\n",
      "genres            708102 non-null object\n",
      "directors         708102 non-null object\n",
      "writers           708102 non-null object\n",
      "dtypes: float64(1), int32(2), object(6)\n",
      "memory usage: 48.6+ MB\n"
     ]
    }
   ],
   "source": [
    "movie=data[[ 'averageRating','numVotes', 'titleType' , 'isAdult','startYear' , 'runtimeMinutes' ,'genres' ,'directors' ,'writers']]\n",
    "movie=movie[movie[\"directors\"]!='\\\\N']\n",
    "movie=movie[movie[\"writers\"]!='\\\\N']\n",
    "\n",
    "movie.info()"
   ]
  },
  {
   "cell_type": "code",
   "execution_count": 134,
   "metadata": {},
   "outputs": [],
   "source": [
    "movie.loc[movie['runtimeMinutes']=='\\\\N','runtimeMinutes']=\"NaN\"\n",
    "movie['runtimeMinutes']=movie['runtimeMinutes'].astype(str).astype(float) #convert to an integer.\n",
    "#movie['runtimeMinutes']=pd.to_numeric(movie['runtimeMinutes']) # same method"
   ]
  },
  {
   "cell_type": "markdown",
   "metadata": {},
   "source": [
    "Change the type of variable runtimeMinutes from object to float only after the missing value symbol '\\\\N' is replaced by np.nan, i.e., NaN."
   ]
  },
  {
   "cell_type": "code",
   "execution_count": 29,
   "metadata": {},
   "outputs": [
    {
     "data": {
      "image/png": "[encoded data removed]",
      "text/plain": [
       "<Figure size 432x288 with 1 Axes>"
      ]
     },
     "metadata": {
      "needs_background": "light"
     },
     "output_type": "display_data"
    }
   ],
   "source": [
    "#movie.boxplot(column='runtimeMinutes')\n",
    "\n",
    "sns.boxplot(movie['runtimeMinutes'])\n",
    "from scipy import stats\n",
    "\n",
    "#z = np.abs(stats.zscore(movie['runtimeMinutes']))\n",
    "#print(z)\n",
    "#print(np.where(z > 3))"
   ]
  },
  {
   "cell_type": "code",
   "execution_count": 30,
   "metadata": {},
   "outputs": [
    {
     "name": "stdout",
     "output_type": "stream",
     "text": [
      "<class 'pandas.core.frame.DataFrame'>\n",
      "Int64Index: 708102 entries, 2 to 964363\n",
      "Data columns (total 9 columns):\n",
      "averageRating     708102 non-null float64\n",
      "numVotes          708102 non-null int32\n",
      "titleType         708102 non-null object\n",
      "isAdult           708102 non-null int32\n",
      "startYear         708102 non-null object\n",
      "runtimeMinutes    557240 non-null float64\n",
      "genres            708102 non-null object\n",
      "directors         708102 non-null object\n",
      "writers           708102 non-null object\n",
      "dtypes: float64(2), int32(2), object(5)\n",
      "memory usage: 48.6+ MB\n",
      "       averageRating      numVotes        isAdult  runtimeMinutes\n",
      "count  708102.000000  7.081020e+05  708102.000000   557240.000000\n",
      "mean        6.876295  1.292878e+03       0.009586       58.656832\n",
      "std         1.376301  1.824053e+04       0.097439       46.626703\n",
      "min         1.000000  5.000000e+00       0.000000        0.000000\n",
      "25%         6.100000  1.000000e+01       0.000000       24.000000\n",
      "50%         7.100000  2.700000e+01       0.000000       50.000000\n",
      "75%         7.800000  1.170000e+02       0.000000       90.000000\n",
      "max        10.000000  2.125804e+06       1.000000     5700.000000\n",
      "        averageRating  numVotes titleType  isAdult startYear  runtimeMinutes  \\\n",
      "59586             6.2       247  tvSeries        0      2006          3900.0   \n",
      "64474             7.2       126  tvSeries        0      2006          2150.0   \n",
      "68375             7.3        12  tvSeries        0      1972          2925.0   \n",
      "210126            4.5        28     video        0      2006          5700.0   \n",
      "394121            5.4         9  tvSeries        0      2000          2288.0   \n",
      "408754            5.7        44  tvSeries        0      1991          3000.0   \n",
      "454690            6.3       300  tvSeries        0      1997          3600.0   \n",
      "507072            5.1       340     movie        0      1987          5220.0   \n",
      "646200            8.7        67  tvSeries        0      2017          3825.0   \n",
      "\n",
      "                        genres  \\\n",
      "59586                    Drama   \n",
      "64474                    Drama   \n",
      "68375   Action,Adventure,Drama   \n",
      "210126                   Drama   \n",
      "394121               Talk-Show   \n",
      "408754                  Comedy   \n",
      "454690                   Drama   \n",
      "507072       Documentary,Music   \n",
      "646200           Drama,History   \n",
      "\n",
      "                                                directors  \\\n",
      "59586   nm0227486,nm0192463,nm0324426,nm0942185,nm0248119   \n",
      "64474                                           nm1646055   \n",
      "68375                                           nm0613668   \n",
      "210126                                          nm4246748   \n",
      "394121                                          nm4468748   \n",
      "408754                      nm6558891,nm6558892,nm6551382   \n",
      "454690                                          nm0220720   \n",
      "507072                                          nm1267224   \n",
      "646200                                          nm6785971   \n",
      "\n",
      "                                                  writers  \n",
      "59586   nm1548597,nm1919867,nm1107925,nm2352020,nm2358...  \n",
      "64474                                 nm6971503,nm2265321  \n",
      "68375                                           nm1713458  \n",
      "210126                                          nm4246748  \n",
      "394121                                          nm0755704  \n",
      "408754                                nm6551383,nm2590336  \n",
      "454690                                nm0222956,nm1818285  \n",
      "507072                                          nm1007137  \n",
      "646200                                nm2346525,nm3188723  \n"
     ]
    }
   ],
   "source": [
    "movie.info() # check the type\n",
    "print(movie.describe())\n",
    "print(movie[movie['runtimeMinutes']>2000])"
   ]
  },
  {
   "cell_type": "code",
   "execution_count": 12,
   "metadata": {},
   "outputs": [
    {
     "data": {
      "image/png": "[encoded data removed]",
      "text/plain": [
       "<Figure size 432x288 with 1 Axes>"
      ]
     },
     "metadata": {
      "needs_background": "light"
     },
     "output_type": "display_data"
    }
   ],
   "source": [
    "sns.boxplot(movie['numVotes'])\n",
    "from scipy import stats"
   ]
  },
  {
   "cell_type": "code",
   "execution_count": 13,
   "metadata": {},
   "outputs": [
    {
     "name": "stdout",
     "output_type": "stream",
     "text": [
      "        averageRating  numVotes titleType  isAdult startYear  runtimeMinutes  \\\n",
      "265538            8.9   1512396     movie        0      2003           201.0   \n",
      "267507            8.8   1863870     movie        0      2010           148.0   \n",
      "386949            9.0   2090684     movie        0      2008           152.0   \n",
      "410436            8.8   1699242     movie        0      1999           139.0   \n",
      "615008            9.4   1578917  tvSeries        0      2011            57.0   \n",
      "632566            9.3   2125804     movie        0      1994           142.0   \n",
      "675916            8.8   1527976     movie        0      2001           178.0   \n",
      "767300            8.9   1665976     movie        0      1994           154.0   \n",
      "931106            8.8   1634956     movie        0      1994           142.0   \n",
      "950485            8.7   1529460     movie        0      1999           136.0   \n",
      "\n",
      "                         genres  \\\n",
      "265538  Adventure,Drama,Fantasy   \n",
      "267507  Action,Adventure,Sci-Fi   \n",
      "386949       Action,Crime,Drama   \n",
      "410436                    Drama   \n",
      "615008   Action,Adventure,Drama   \n",
      "632566                    Drama   \n",
      "675916  Adventure,Drama,Fantasy   \n",
      "767300              Crime,Drama   \n",
      "931106            Drama,Romance   \n",
      "950485            Action,Sci-Fi   \n",
      "\n",
      "                                                directors  \\\n",
      "265538                                          nm0001392   \n",
      "267507                                          nm0634240   \n",
      "386949                                          nm0634240   \n",
      "410436                                          nm0000399   \n",
      "615008  nm0551076,nm0806252,nm1888967,nm0764601,nm0533...   \n",
      "632566                                          nm0001104   \n",
      "675916                                          nm0001392   \n",
      "767300                                          nm0000233   \n",
      "931106                                          nm0000709   \n",
      "950485                                nm0905154,nm0905152   \n",
      "\n",
      "                                                  writers  \n",
      "265538            nm0866058,nm0909638,nm0101991,nm0001392  \n",
      "267507                                          nm0634240  \n",
      "386949            nm0634300,nm0634240,nm0333060,nm0004170  \n",
      "410436                                nm0657333,nm0880243  \n",
      "615008  nm1125275,nm0552333,nm1888967,nm4984276,nm2643...  \n",
      "632566                                nm0000175,nm0001104  \n",
      "675916            nm0866058,nm0909638,nm0101991,nm0001392  \n",
      "767300                                nm0000233,nm0000812  \n",
      "931106                                nm0343165,nm0744839  \n",
      "950485                                nm0905152,nm0905154  \n"
     ]
    }
   ],
   "source": [
    "print(movie[movie['numVotes']>1500000])"
   ]
  },
  {
   "cell_type": "markdown",
   "metadata": {},
   "source": [
    "Check if the observations with too large runtimeMinutes are outliers: The title of most movies with run time larger than 2000 min is tvSeries and video. This makes sense. These observations will not be considered as outliers. Impute the missing values of variable runtimeMinutes with median."
   ]
  },
  {
   "cell_type": "code",
   "execution_count": 135,
   "metadata": {},
   "outputs": [],
   "source": [
    "median = movie['runtimeMinutes'].median()\n",
    "movie['runtimeMinutes'].fillna(median, inplace = True) "
   ]
  },
  {
   "cell_type": "code",
   "execution_count": 136,
   "metadata": {},
   "outputs": [
    {
     "name": "stdout",
     "output_type": "stream",
     "text": [
      "['averageRating' 'numVotes' 'titleType' 'isAdult' 'startYear'\n",
      " 'runtimeMinutes' 'genres' 'directors' 'writers']\n",
      "Index(['averageRating', 'numVotes', 'titleType', 'isAdult', 'startYear',\n",
      "       'runtimeMinutes', 'genres', 'directors', 'writers'],\n",
      "      dtype='object')\n",
      "['numVotes', 'isAdult', 'runtimeMinutes']\n"
     ]
    },
    {
     "data": {
      "text/html": [
       "<div>\n",
       "<style scoped>\n",
       "    .dataframe tbody tr th:only-of-type {\n",
       "        vertical-align: middle;\n",
       "    }\n",
       "\n",
       "    .dataframe tbody tr th {\n",
       "        vertical-align: top;\n",
       "    }\n",
       "\n",
       "    .dataframe thead th {\n",
       "        text-align: right;\n",
       "    }\n",
       "</style>\n",
       "<table border=\"1\" class=\"dataframe\">\n",
       "  <thead>\n",
       "    <tr style=\"text-align: right;\">\n",
       "      <th></th>\n",
       "      <th>averageRating</th>\n",
       "      <th>numVotes</th>\n",
       "      <th>isAdult</th>\n",
       "      <th>runtimeMinutes</th>\n",
       "    </tr>\n",
       "  </thead>\n",
       "  <tbody>\n",
       "    <tr>\n",
       "      <td>count</td>\n",
       "      <td>708102.000000</td>\n",
       "      <td>7.081020e+05</td>\n",
       "      <td>708102.000000</td>\n",
       "      <td>708102.000000</td>\n",
       "    </tr>\n",
       "    <tr>\n",
       "      <td>mean</td>\n",
       "      <td>6.876295</td>\n",
       "      <td>1.292878e+03</td>\n",
       "      <td>0.009586</td>\n",
       "      <td>56.812483</td>\n",
       "    </tr>\n",
       "    <tr>\n",
       "      <td>std</td>\n",
       "      <td>1.376301</td>\n",
       "      <td>1.824053e+04</td>\n",
       "      <td>0.097439</td>\n",
       "      <td>41.514208</td>\n",
       "    </tr>\n",
       "    <tr>\n",
       "      <td>min</td>\n",
       "      <td>1.000000</td>\n",
       "      <td>5.000000e+00</td>\n",
       "      <td>0.000000</td>\n",
       "      <td>0.000000</td>\n",
       "    </tr>\n",
       "    <tr>\n",
       "      <td>25%</td>\n",
       "      <td>6.100000</td>\n",
       "      <td>1.000000e+01</td>\n",
       "      <td>0.000000</td>\n",
       "      <td>30.000000</td>\n",
       "    </tr>\n",
       "    <tr>\n",
       "      <td>50%</td>\n",
       "      <td>7.100000</td>\n",
       "      <td>2.700000e+01</td>\n",
       "      <td>0.000000</td>\n",
       "      <td>50.000000</td>\n",
       "    </tr>\n",
       "    <tr>\n",
       "      <td>75%</td>\n",
       "      <td>7.800000</td>\n",
       "      <td>1.170000e+02</td>\n",
       "      <td>0.000000</td>\n",
       "      <td>84.000000</td>\n",
       "    </tr>\n",
       "    <tr>\n",
       "      <td>max</td>\n",
       "      <td>10.000000</td>\n",
       "      <td>2.125804e+06</td>\n",
       "      <td>1.000000</td>\n",
       "      <td>5700.000000</td>\n",
       "    </tr>\n",
       "  </tbody>\n",
       "</table>\n",
       "</div>"
      ],
      "text/plain": [
       "       averageRating      numVotes        isAdult  runtimeMinutes\n",
       "count  708102.000000  7.081020e+05  708102.000000   708102.000000\n",
       "mean        6.876295  1.292878e+03       0.009586       56.812483\n",
       "std         1.376301  1.824053e+04       0.097439       41.514208\n",
       "min         1.000000  5.000000e+00       0.000000        0.000000\n",
       "25%         6.100000  1.000000e+01       0.000000       30.000000\n",
       "50%         7.100000  2.700000e+01       0.000000       50.000000\n",
       "75%         7.800000  1.170000e+02       0.000000       84.000000\n",
       "max        10.000000  2.125804e+06       1.000000     5700.000000"
      ]
     },
     "execution_count": 136,
     "metadata": {},
     "output_type": "execute_result"
    }
   ],
   "source": [
    "print(movie.columns.values)\n",
    "print(movie.columns)\n",
    "labels=movie[\"averageRating\"]# get the response varible\n",
    "numeric_features=movie.loc[:, movie.columns != \"averageRating\"]._get_numeric_data().columns.values.tolist()# get numeric features\n",
    "print(numeric_features)\n",
    "movie.describe()"
   ]
  },
  {
   "cell_type": "code",
   "execution_count": 137,
   "metadata": {},
   "outputs": [
    {
     "name": "stdout",
     "output_type": "stream",
     "text": [
      "['numVotes', 'runtimeMinutes']\n",
      "['titleType', 'startYear', 'genres', 'directors', 'writers', 'isAdult']\n"
     ]
    }
   ],
   "source": [
    "categorical_features=['titleType', 'startYear','genres', 'directors', 'writers']\n",
    "numeric_features.remove(\"isAdult\") \n",
    "categorical_features.append(\"isAdult\") #get categorical features\n",
    "print(numeric_features)\n",
    "print(categorical_features)"
   ]
  },
  {
   "cell_type": "code",
   "execution_count": 37,
   "metadata": {},
   "outputs": [
    {
     "name": "stdout",
     "output_type": "stream",
     "text": [
      "tvEpisode       296809\n",
      "movie           207445\n",
      "short            88968\n",
      "tvSeries         43709\n",
      "tvMovie          34053\n",
      "video            21135\n",
      "tvMiniSeries      6986\n",
      "tvSpecial         3788\n",
      "videoGame         3055\n",
      "tvShort           2154\n",
      "Name: titleType, dtype: int64\n",
      "nm1337210                                                                                                                                                                                                                                                                                                                                                                                                                                        2842\n",
      "nm3766090                                                                                                                                                                                                                                                                                                                                                                                                                                        1085\n",
      "nm0123273                                                                                                                                                                                                                                                                                                                                                                                                                                         909\n",
      "nm2078274                                                                                                                                                                                                                                                                                                                                                                                                                                         644\n",
      "nm3005544                                                                                                                                                                                                                                                                                                                                                                                                                                         616\n",
      "                                                                                                                                                                                                                                                                                                                                                                                                                                                 ... \n",
      "nm1185863                                                                                                                                                                                                                                                                                                                                                                                                                                           1\n",
      "nm1117845                                                                                                                                                                                                                                                                                                                                                                                                                                           1\n",
      "nm0042717                                                                                                                                                                                                                                                                                                                                                                                                                                           1\n",
      "nm1254220,nm0817794                                                                                                                                                                                                                                                                                                                                                                                                                                 1\n",
      "nm0601293,nm0200645,nm0786989,nm0375570,nm0568546,nm0065568,nm0695779,nm0364749,nm0001306,nm0541900,nm0001155,nm0271928,nm0229697,nm0388629,nm0860650,nm0186305,nm0562251,nm0801883,nm0441940,nm0822570,nm0010431,nm0554169,nm0165493,nm0684719,nm0437076,nm0667299,nm0082676,nm0417054,nm0206488,nm0206560,nm0004886,nm0132095,nm0294229,nm0253605,nm0568228,nm0449242,nm0336782,nm0036206,nm0232702,nm0369858,nm0001904,nm0469957,nm0545273       1\n",
      "Name: directors, Length: 202175, dtype: int64\n",
      "0    701314\n",
      "1      6788\n",
      "Name: isAdult, dtype: int64\n"
     ]
    }
   ],
   "source": [
    "print(movie['titleType'].value_counts())\n",
    "print(movie['directors'].value_counts())\n",
    "print(movie[\"isAdult\"].value_counts())"
   ]
  },
  {
   "cell_type": "code",
   "execution_count": 138,
   "metadata": {},
   "outputs": [
    {
     "name": "stdout",
     "output_type": "stream",
     "text": [
      "['numVotes', 'runtimeMinutes']\n",
      "['titleType', 'startYear', 'genres', 'directors', 'writers', 'isAdult']\n"
     ]
    }
   ],
   "source": [
    "movie[categorical_features]=movie[categorical_features].astype('str') \n",
    "print(numeric_features)\n",
    "print(categorical_features)\n",
    "movie[\"isAdult\"]=movie[\"isAdult\"].astype('int') "
   ]
  },
  {
   "cell_type": "code",
   "execution_count": 42,
   "metadata": {},
   "outputs": [
    {
     "name": "stdout",
     "output_type": "stream",
     "text": [
      "<class 'pandas.core.frame.DataFrame'>\n",
      "Int64Index: 708102 entries, 2 to 964363\n",
      "Data columns (total 9 columns):\n",
      "averageRating     708102 non-null float64\n",
      "numVotes          708102 non-null int32\n",
      "titleType         708102 non-null object\n",
      "isAdult           708102 non-null int32\n",
      "startYear         708102 non-null object\n",
      "runtimeMinutes    708102 non-null float64\n",
      "genres            708102 non-null object\n",
      "directors         708102 non-null object\n",
      "writers           708102 non-null object\n",
      "dtypes: float64(2), int32(2), object(5)\n",
      "memory usage: 48.6+ MB\n"
     ]
    }
   ],
   "source": [
    "movie.info()"
   ]
  },
  {
   "cell_type": "code",
   "execution_count": 40,
   "metadata": {},
   "outputs": [
    {
     "name": "stdout",
     "output_type": "stream",
     "text": [
      "2016    31634\n",
      "2017    30558\n",
      "2015    30418\n",
      "2014    28923\n",
      "2013    28621\n",
      "        ...  \n",
      "1899        8\n",
      "1904        8\n",
      "1902        7\n",
      "1895        6\n",
      "1894        3\n",
      "Name: startYear, Length: 127, dtype: int64\n",
      "Comedy                        76241\n",
      "Drama                         65396\n",
      "Documentary                   23820\n",
      "Comedy,Drama                  17477\n",
      "Crime,Drama,Mystery           17468\n",
      "                              ...  \n",
      "Adventure,History,Thriller        1\n",
      "Family,History,Sci-Fi             1\n",
      "Adventure,Biography,Horror        1\n",
      "Adult,Animation,Thriller          1\n",
      "Fantasy,Horror,War                1\n",
      "Name: genres, Length: 1803, dtype: int64\n"
     ]
    }
   ],
   "source": [
    "print(movie[\"startYear\"].value_counts())\n",
    "print(movie[\"genres\"].value_counts())"
   ]
  },
  {
   "cell_type": "markdown",
   "metadata": {},
   "source": [
    "The number of missing values for variables startYear and genresis small. The most frequent method is used to impute the missing values of category variables. From above result, we can see that the most frequent categories for variables startYear and genresis are '2016' and 'Comedy'."
   ]
  },
  {
   "cell_type": "code",
   "execution_count": 139,
   "metadata": {},
   "outputs": [],
   "source": [
    "movie.loc[movie[\"startYear\"]=='\\\\N',\"startYear\"]=2016\n",
    "movie.loc[movie[\"genres\"]=='\\\\N',\"genres\"]=\"Comedy\"\n",
    "movie[\"startYear\"]=movie[\"startYear\"].astype(int)"
   ]
  },
  {
   "cell_type": "code",
   "execution_count": 140,
   "metadata": {},
   "outputs": [],
   "source": [
    "movie[categorical_features]=movie[categorical_features].astype('category')  \n"
   ]
  },
  {
   "cell_type": "code",
   "execution_count": null,
   "metadata": {},
   "outputs": [],
   "source": [
    "movie.info()"
   ]
  },
  {
   "cell_type": "code",
   "execution_count": null,
   "metadata": {},
   "outputs": [],
   "source": [
    " #This is the same most frequent impution method as above, but using SimpleImputer function. This will take longer time to operate.\n",
    "#imp=SimpleImputer(missing_values='\\\\N',strategy=\"most_frequent\") #Number of missing values is small. The most frequent method is used to impute the missing values of category variables.\n",
    "#movie[['startYear', 'genres']]=imp.fit_transform(movie[['startYear', 'genres']])"
   ]
  },
  {
   "cell_type": "code",
   "execution_count": null,
   "metadata": {},
   "outputs": [],
   "source": [
    "print(data[data[\"titleType\"]=='\\\\N'].shape[0]) #0\n",
    "print(data[data[\"primaryTitle\"]=='\\\\N'].shape[0]) #0\n",
    "print(data[data[\"originalTitle\"]=='\\\\N'].shape[0]) #3\n",
    "print(data[data[\"startYear\"]=='\\\\N'].shape[0]) # 109\n",
    "print(data[data[\"endYear\"]=='\\\\N'].shape[0]) # 943583\n",
    "print(data[data[\"runtimeMinutes\"]=='\\\\N'].shape[0]) # 262733\n",
    "print(data[data[\"genres\"]=='\\\\N'].shape[0]) # 22978"
   ]
  },
  {
   "cell_type": "code",
   "execution_count": 12,
   "metadata": {},
   "outputs": [
    {
     "name": "stdout",
     "output_type": "stream",
     "text": [
      "<class 'pandas.core.frame.DataFrame'>\n",
      "Int64Index: 708102 entries, 2 to 964363\n",
      "Data columns (total 9 columns):\n",
      "averageRating     708102 non-null float64\n",
      "numVotes          708102 non-null int32\n",
      "titleType         708102 non-null category\n",
      "isAdult           708102 non-null category\n",
      "startYear         708102 non-null category\n",
      "runtimeMinutes    557240 non-null float64\n",
      "genres            708102 non-null category\n",
      "directors         708102 non-null category\n",
      "writers           708102 non-null category\n",
      "dtypes: category(6), float64(2), int32(1)\n",
      "memory usage: 52.4 MB\n",
      "       averageRating      numVotes  runtimeMinutes\n",
      "count  708102.000000  7.081020e+05   557240.000000\n",
      "mean        6.876295  1.292878e+03       58.656832\n",
      "std         1.376301  1.824053e+04       46.626703\n",
      "min         1.000000  5.000000e+00        0.000000\n",
      "25%         6.100000  1.000000e+01       24.000000\n",
      "50%         7.100000  2.700000e+01       50.000000\n",
      "75%         7.800000  1.170000e+02       90.000000\n",
      "max        10.000000  2.125804e+06     5700.000000\n"
     ]
    }
   ],
   "source": [
    "movie.info()\n",
    "print(movie.describe())"
   ]
  },
  {
   "cell_type": "markdown",
   "metadata": {},
   "source": [
    "# Data Visualization"
   ]
  },
  {
   "cell_type": "code",
   "execution_count": 124,
   "metadata": {
    "scrolled": true
   },
   "outputs": [
    {
     "data": {
      "image/png": "[encoded data removed]",
      "text/plain": [
       "<Figure size 432x288 with 1 Axes>"
      ]
     },
     "metadata": {
      "needs_background": "light"
     },
     "output_type": "display_data"
    }
   ],
   "source": [
    "plt.hist(labels,bins=20,  range=[0, 10]) \n",
    "plt.title(\"Distribution of the IMDB Ratings\")\n",
    "plt.xlabel('weighted average of all the individual user ratings', fontsize=12)\n",
    "plt.ylabel('count of movies', fontsize=12)\n",
    "plt.show()"
   ]
  },
  {
   "cell_type": "code",
   "execution_count": 45,
   "metadata": {},
   "outputs": [
    {
     "data": {
      "image/png": "[encoded data removed]",
      "text/plain": [
       "<Figure size 432x288 with 1 Axes>"
      ]
     },
     "metadata": {
      "needs_background": "light"
     },
     "output_type": "display_data"
    }
   ],
   "source": [
    "from statsmodels.graphics.gofplots import qqplot\n",
    "qqplot(labels, line='s')\n",
    "plt.show()"
   ]
  },
  {
   "cell_type": "code",
   "execution_count": 41,
   "metadata": {},
   "outputs": [
    {
     "name": "stdout",
     "output_type": "stream",
     "text": [
      "(73424.03401114198, 0.0)\n"
     ]
    }
   ],
   "source": [
    "from scipy import stats\n",
    "k2, p = stats.normaltest(labels)\n",
    "print((k2,p))"
   ]
  },
  {
   "cell_type": "markdown",
   "metadata": {},
   "source": [
    "From above histogram, we can see that most of the average ratings fall betweeen 6 and 9. Most of people are satisfied with the movies they saw. The distribution of the average ratings is a little left skewed. It is kind of bell shaped, but not symmetric. The averageRating variable doesn't follow the normal distribution exactly. "
   ]
  },
  {
   "cell_type": "code",
   "execution_count": 125,
   "metadata": {},
   "outputs": [
    {
     "data": {
      "image/png": "[encoded data removed]",
      "text/plain": [
       "<Figure size 432x288 with 1 Axes>"
      ]
     },
     "metadata": {
      "needs_background": "light"
     },
     "output_type": "display_data"
    }
   ],
   "source": [
    "movie.groupby('startYear')['averageRating'].mean().plot()\n",
    "plt.title('Average Rating by Year')\n",
    "plt.ylabel('Average Rating', fontsize=12)\n",
    "plt.xlabel('Year', fontsize=12)\n",
    "plt.show()"
   ]
  },
  {
   "cell_type": "code",
   "execution_count": 126,
   "metadata": {},
   "outputs": [
    {
     "data": {
      "image/png": "[encoded data removed]",
      "text/plain": [
       "<Figure size 432x288 with 1 Axes>"
      ]
     },
     "metadata": {
      "needs_background": "light"
     },
     "output_type": "display_data"
    }
   ],
   "source": [
    "plt.scatter(movie['startYear'],movie['averageRating'])\n",
    "plt.title('Average Rating by Year')\n",
    "plt.ylabel('Average Rating', fontsize=12)\n",
    "plt.xlabel('Year', fontsize=12)\n",
    "plt.show()"
   ]
  },
  {
   "cell_type": "markdown",
   "metadata": {},
   "source": [
    "From above, we can see that the group mean of the average rating is kind of increasing with the year. The average rating is significantly time related. This will be further analysed if there is enough time. "
   ]
  },
  {
   "cell_type": "code",
   "execution_count": 25,
   "metadata": {},
   "outputs": [
    {
     "data": {
      "text/plain": [
       "isAdult\n",
       "0    6.883403\n",
       "1    6.142001\n",
       "Name: averageRating, dtype: float64"
      ]
     },
     "execution_count": 25,
     "metadata": {},
     "output_type": "execute_result"
    }
   ],
   "source": [
    "movie.groupby('isAdult')['averageRating'].mean()"
   ]
  },
  {
   "cell_type": "code",
   "execution_count": 127,
   "metadata": {},
   "outputs": [
    {
     "data": {
      "image/png": "[encoded data removed]",
      "text/plain": [
       "<Figure size 432x288 with 1 Axes>"
      ]
     },
     "metadata": {
      "needs_background": "light"
     },
     "output_type": "display_data"
    }
   ],
   "source": [
    "# Visualization of adult\n",
    "plt.bar([0,1],movie.groupby('isAdult')['averageRating'].mean())\n",
    "plt.title('Average Rating by Title')\n",
    "plt.ylabel('Average Rating', fontsize=12)\n",
    "plt.xlabel('Title( 0: non-adult title; 1: adult title)', fontsize=12)\n",
    "plt.show()"
   ]
  },
  {
   "cell_type": "markdown",
   "metadata": {},
   "source": [
    "From above, we can see that the non-adult title tends to get higher average rating."
   ]
  },
  {
   "cell_type": "code",
   "execution_count": 128,
   "metadata": {},
   "outputs": [
    {
     "data": {
      "image/png": "[encoded data removed]",
      "text/plain": [
       "<Figure size 432x288 with 1 Axes>"
      ]
     },
     "metadata": {
      "needs_background": "light"
     },
     "output_type": "display_data"
    }
   ],
   "source": [
    "plt.scatter('numVotes','averageRating',data=movie)\n",
    "plt.title('Average Rating vs Number of Votes')\n",
    "plt.ylabel('Average rating', fontsize=12)\n",
    "plt.xlabel('Number of votes the title has received', fontsize=12)\n",
    "plt.show()"
   ]
  },
  {
   "cell_type": "markdown",
   "metadata": {},
   "source": [
    "There is an increasing trend between variables numVotes and averageRating. But it is not linear, kind of quadratic."
   ]
  },
  {
   "cell_type": "code",
   "execution_count": 28,
   "metadata": {},
   "outputs": [
    {
     "data": {
      "image/png": "[encoded data removed]",
      "text/plain": [
       "<Figure size 432x288 with 1 Axes>"
      ]
     },
     "metadata": {
      "needs_background": "light"
     },
     "output_type": "display_data"
    }
   ],
   "source": [
    "plt.scatter('runtimeMinutes','averageRating',data=movie)\n",
    "plt.title('Average Rating vs Runtime')\n",
    "plt.ylabel('Average rating', fontsize=12)\n",
    "plt.xlabel('Primary runtime of the title, in minutes', fontsize=12)\n",
    "plt.show() "
   ]
  },
  {
   "cell_type": "markdown",
   "metadata": {},
   "source": [
    "There is no linear trend between runtimeMinutes and averageRating."
   ]
  },
  {
   "cell_type": "code",
   "execution_count": 142,
   "metadata": {},
   "outputs": [
    {
     "data": {
      "image/png": "[encoded data removed]",
      "text/plain": [
       "<Figure size 432x288 with 1 Axes>"
      ]
     },
     "metadata": {
      "needs_background": "light"
     },
     "output_type": "display_data"
    }
   ],
   "source": [
    "plt.hist(movie['runtimeMinutes'],bins=50,  range=[0, 400])\n",
    "plt.title(\"Distribution of Runtime\")\n",
    "plt.xlabel('primary runtime of the title, in minutes')\n",
    "plt.ylabel('count')\n",
    "plt.show()"
   ]
  },
  {
   "cell_type": "code",
   "execution_count": 132,
   "metadata": {},
   "outputs": [
    {
     "data": {
      "text/plain": [
       "2        -0.959009\n",
       "3        -0.959009\n",
       "4        -0.934921\n",
       "5        -0.983097\n",
       "6         5.857939\n",
       "            ...   \n",
       "964356   -0.164100\n",
       "964357    0.919867\n",
       "964358   -0.164100\n",
       "964360   -0.164100\n",
       "964363   -0.814480\n",
       "Name: runtimeMinutes, Length: 708102, dtype: float64"
      ]
     },
     "execution_count": 132,
     "metadata": {},
     "output_type": "execute_result"
    }
   ],
   "source": [
    "movie['runtimeMinutes']"
   ]
  },
  {
   "cell_type": "code",
   "execution_count": 130,
   "metadata": {},
   "outputs": [
    {
     "data": {
      "image/png": "[encoded data removed]",
      "text/plain": [
       "<Figure size 432x288 with 1 Axes>"
      ]
     },
     "metadata": {
      "needs_background": "light"
     },
     "output_type": "display_data"
    }
   ],
   "source": [
    "qqplot(movie['runtimeMinutes'], line='s')\n",
    "plt.show()"
   ]
  },
  {
   "cell_type": "code",
   "execution_count": 42,
   "metadata": {},
   "outputs": [
    {
     "name": "stdout",
     "output_type": "stream",
     "text": [
      "(1410765.9757373123, 0.0)\n"
     ]
    }
   ],
   "source": [
    "from scipy import stats\n",
    "k2, p = stats.normaltest(movie['runtimeMinutes'])\n",
    "print((k2,p))"
   ]
  },
  {
   "cell_type": "code",
   "execution_count": 143,
   "metadata": {},
   "outputs": [
    {
     "data": {
      "image/png": "[encoded data removed]",
      "text/plain": [
       "<Figure size 432x288 with 1 Axes>"
      ]
     },
     "metadata": {
      "needs_background": "light"
     },
     "output_type": "display_data"
    }
   ],
   "source": [
    "plt.hist(movie['numVotes'],bins=100,  range=[0, 100])\n",
    "plt.title(\"Distribution of numVotes\")\n",
    "plt.xlabel('number of votes the title has received')\n",
    "plt.ylabel('count')\n",
    "plt.show()"
   ]
  },
  {
   "cell_type": "code",
   "execution_count": 47,
   "metadata": {},
   "outputs": [
    {
     "data": {
      "image/png": "[encoded data removed]",
      "text/plain": [
       "<Figure size 432x288 with 1 Axes>"
      ]
     },
     "metadata": {
      "needs_background": "light"
     },
     "output_type": "display_data"
    }
   ],
   "source": [
    "qqplot(movie['numVotes'], line='s')\n",
    "plt.show()"
   ]
  },
  {
   "cell_type": "code",
   "execution_count": 43,
   "metadata": {},
   "outputs": [
    {
     "name": "stdout",
     "output_type": "stream",
     "text": [
      "(2056586.7563428297, 0.0)\n"
     ]
    }
   ],
   "source": [
    "k2, p = stats.normaltest(movie['numVotes'])\n",
    "print((k2,p))"
   ]
  },
  {
   "cell_type": "code",
   "execution_count": 30,
   "metadata": {},
   "outputs": [
    {
     "data": {
      "image/png": "[encoded data removed]",
      "text/plain": [
       "<Figure size 864x648 with 2 Axes>"
      ]
     },
     "metadata": {},
     "output_type": "display_data"
    }
   ],
   "source": [
    "def corrmap(features, title):\n",
    "    sns.set(context=\"paper\", font=\"monospace\")\n",
    "    corrmat = movie[features].corr()\n",
    "    f, ax = plt.subplots(figsize=(12, 9))\n",
    "    plt.title(title)\n",
    "    # Draw the heatmap using seaborn\n",
    "    sns.heatmap(corrmat, vmax=.8, square=True)\n",
    "corrmap(numeric_features,\"Correlation matrix for numeric features\")"
   ]
  },
  {
   "cell_type": "code",
   "execution_count": 116,
   "metadata": {},
   "outputs": [
    {
     "data": {
      "text/plain": [
       "<matplotlib.axes._subplots.AxesSubplot at 0x2ca2a9bc448>"
      ]
     },
     "execution_count": 116,
     "metadata": {},
     "output_type": "execute_result"
    },
    {
     "data": {
      "image/png": "[encoded data removed]",
      "text/plain": [
       "<Figure size 432x288 with 2 Axes>"
      ]
     },
     "metadata": {
      "needs_background": "light"
     },
     "output_type": "display_data"
    }
   ],
   "source": [
    "  sns.heatmap(movie.corr(), square=True)"
   ]
  },
  {
   "cell_type": "code",
   "execution_count": 30,
   "metadata": {},
   "outputs": [
    {
     "data": {
      "text/html": [
       "<div>\n",
       "<style scoped>\n",
       "    .dataframe tbody tr th:only-of-type {\n",
       "        vertical-align: middle;\n",
       "    }\n",
       "\n",
       "    .dataframe tbody tr th {\n",
       "        vertical-align: top;\n",
       "    }\n",
       "\n",
       "    .dataframe thead th {\n",
       "        text-align: right;\n",
       "    }\n",
       "</style>\n",
       "<table border=\"1\" class=\"dataframe\">\n",
       "  <thead>\n",
       "    <tr style=\"text-align: right;\">\n",
       "      <th></th>\n",
       "      <th>numVotes</th>\n",
       "      <th>runtimeMinutes</th>\n",
       "    </tr>\n",
       "  </thead>\n",
       "  <tbody>\n",
       "    <tr>\n",
       "      <td>numVotes</td>\n",
       "      <td>1.000000</td>\n",
       "      <td>0.083436</td>\n",
       "    </tr>\n",
       "    <tr>\n",
       "      <td>runtimeMinutes</td>\n",
       "      <td>0.083436</td>\n",
       "      <td>1.000000</td>\n",
       "    </tr>\n",
       "  </tbody>\n",
       "</table>\n",
       "</div>"
      ],
      "text/plain": [
       "                numVotes  runtimeMinutes\n",
       "numVotes        1.000000        0.083436\n",
       "runtimeMinutes  0.083436        1.000000"
      ]
     },
     "execution_count": 30,
     "metadata": {},
     "output_type": "execute_result"
    }
   ],
   "source": [
    "corrmat = movie[numeric_features].corr()\n",
    "corrmat "
   ]
  },
  {
   "cell_type": "code",
   "execution_count": 110,
   "metadata": {},
   "outputs": [
    {
     "data": {
      "text/html": [
       "<div>\n",
       "<style scoped>\n",
       "    .dataframe tbody tr th:only-of-type {\n",
       "        vertical-align: middle;\n",
       "    }\n",
       "\n",
       "    .dataframe tbody tr th {\n",
       "        vertical-align: top;\n",
       "    }\n",
       "\n",
       "    .dataframe thead th {\n",
       "        text-align: right;\n",
       "    }\n",
       "</style>\n",
       "<table border=\"1\" class=\"dataframe\">\n",
       "  <thead>\n",
       "    <tr style=\"text-align: right;\">\n",
       "      <th></th>\n",
       "      <th>averageRating</th>\n",
       "      <th>numVotes</th>\n",
       "      <th>titleType</th>\n",
       "      <th>runtimeMinutes</th>\n",
       "      <th>genres</th>\n",
       "      <th>directors</th>\n",
       "      <th>writers</th>\n",
       "    </tr>\n",
       "  </thead>\n",
       "  <tbody>\n",
       "    <tr>\n",
       "      <td>averageRating</td>\n",
       "      <td>1.000000</td>\n",
       "      <td>0.016248</td>\n",
       "      <td>0.119521</td>\n",
       "      <td>-0.198570</td>\n",
       "      <td>-0.051966</td>\n",
       "      <td>0.033634</td>\n",
       "      <td>0.025550</td>\n",
       "    </tr>\n",
       "    <tr>\n",
       "      <td>numVotes</td>\n",
       "      <td>0.016248</td>\n",
       "      <td>1.000000</td>\n",
       "      <td>-0.044594</td>\n",
       "      <td>0.083436</td>\n",
       "      <td>-0.032732</td>\n",
       "      <td>-0.045299</td>\n",
       "      <td>-0.033923</td>\n",
       "    </tr>\n",
       "    <tr>\n",
       "      <td>titleType</td>\n",
       "      <td>0.119521</td>\n",
       "      <td>-0.044594</td>\n",
       "      <td>1.000000</td>\n",
       "      <td>-0.148712</td>\n",
       "      <td>-0.070253</td>\n",
       "      <td>0.006348</td>\n",
       "      <td>0.012216</td>\n",
       "    </tr>\n",
       "    <tr>\n",
       "      <td>runtimeMinutes</td>\n",
       "      <td>-0.198570</td>\n",
       "      <td>0.083436</td>\n",
       "      <td>-0.148712</td>\n",
       "      <td>1.000000</td>\n",
       "      <td>0.041935</td>\n",
       "      <td>-0.117944</td>\n",
       "      <td>-0.102625</td>\n",
       "    </tr>\n",
       "    <tr>\n",
       "      <td>genres</td>\n",
       "      <td>-0.051966</td>\n",
       "      <td>-0.032732</td>\n",
       "      <td>-0.070253</td>\n",
       "      <td>0.041935</td>\n",
       "      <td>1.000000</td>\n",
       "      <td>0.079428</td>\n",
       "      <td>0.073068</td>\n",
       "    </tr>\n",
       "    <tr>\n",
       "      <td>directors</td>\n",
       "      <td>0.033634</td>\n",
       "      <td>-0.045299</td>\n",
       "      <td>0.006348</td>\n",
       "      <td>-0.117944</td>\n",
       "      <td>0.079428</td>\n",
       "      <td>1.000000</td>\n",
       "      <td>0.658989</td>\n",
       "    </tr>\n",
       "    <tr>\n",
       "      <td>writers</td>\n",
       "      <td>0.025550</td>\n",
       "      <td>-0.033923</td>\n",
       "      <td>0.012216</td>\n",
       "      <td>-0.102625</td>\n",
       "      <td>0.073068</td>\n",
       "      <td>0.658989</td>\n",
       "      <td>1.000000</td>\n",
       "    </tr>\n",
       "  </tbody>\n",
       "</table>\n",
       "</div>"
      ],
      "text/plain": [
       "                averageRating  numVotes  titleType  runtimeMinutes    genres  \\\n",
       "averageRating        1.000000  0.016248   0.119521       -0.198570 -0.051966   \n",
       "numVotes             0.016248  1.000000  -0.044594        0.083436 -0.032732   \n",
       "titleType            0.119521 -0.044594   1.000000       -0.148712 -0.070253   \n",
       "runtimeMinutes      -0.198570  0.083436  -0.148712        1.000000  0.041935   \n",
       "genres              -0.051966 -0.032732  -0.070253        0.041935  1.000000   \n",
       "directors            0.033634 -0.045299   0.006348       -0.117944  0.079428   \n",
       "writers              0.025550 -0.033923   0.012216       -0.102625  0.073068   \n",
       "\n",
       "                directors   writers  \n",
       "averageRating    0.033634  0.025550  \n",
       "numVotes        -0.045299 -0.033923  \n",
       "titleType        0.006348  0.012216  \n",
       "runtimeMinutes  -0.117944 -0.102625  \n",
       "genres           0.079428  0.073068  \n",
       "directors        1.000000  0.658989  \n",
       "writers          0.658989  1.000000  "
      ]
     },
     "execution_count": 110,
     "metadata": {},
     "output_type": "execute_result"
    }
   ],
   "source": [
    "movie.corr()"
   ]
  },
  {
   "cell_type": "markdown",
   "metadata": {},
   "source": [
    "There is almost no correlation between variables numVotes and runtimeMinutes."
   ]
  },
  {
   "cell_type": "code",
   "execution_count": 31,
   "metadata": {},
   "outputs": [
    {
     "name": "stdout",
     "output_type": "stream",
     "text": [
      "[('numVotes', (0.016247686388758377, 1.469748170029789e-42)), ('runtimeMinutes', (-0.19857033119223186, 0.0))]\n"
     ]
    }
   ],
   "source": [
    "import operator\n",
    "from scipy.stats import pearsonr\n",
    "correl={}\n",
    "for f in numeric_features:\n",
    "    correl[f]=pearsonr(movie[f], labels)\n",
    "sorted_cor = sorted(correl.items(), key=operator.itemgetter(1), reverse=True)\n",
    "print (sorted_cor)"
   ]
  },
  {
   "cell_type": "markdown",
   "metadata": {},
   "source": [
    "The Pearson correlation coefficient beween numVotes and averageRating is 0.016247686388757378. The Pearson correlation coefficient beween runtimeMinutes and averageRating is -0.1985703311921796. They're all very small. There is not obvious linear relationship between averageRating and these two variables."
   ]
  },
  {
   "cell_type": "markdown",
   "metadata": {},
   "source": [
    "# Data Preparation"
   ]
  },
  {
   "cell_type": "markdown",
   "metadata": {},
   "source": [
    "The variable isAdult is already dummy variable. The rest categorical variables titleType, startYear,genres, directors, writers need to be recoded. Here the LabelEncoder is used. I prefer OneHotEncoder method, but there exists memory problem. There're two methods for the one hot encoder, one is get_dummies, the other is OneHotEncoder. "
   ]
  },
  {
   "cell_type": "code",
   "execution_count": 38,
   "metadata": {},
   "outputs": [],
   "source": [
    "class MultiColumnLabelEncoder:\n",
    "    def __init__(self,columns = None):\n",
    "        self.columns = columns # array of column names to encode\n",
    "\n",
    "    def fit(self,X,y=None):\n",
    "        return self # not relevant here\n",
    "\n",
    "    def transform(self,X):\n",
    "        '''\n",
    "        Transforms columns of X specified in self.columns using\n",
    "        LabelEncoder(). If no columns specified, transforms all\n",
    "        columns in X.\n",
    "        '''\n",
    "        output = X.copy()\n",
    "        if self.columns is not None:\n",
    "            for col in self.columns:\n",
    "                output[col] = LabelEncoder().fit_transform(output[col])\n",
    "        else:\n",
    "            for colname,col in output.iteritems():\n",
    "                output[colname] = LabelEncoder().fit_transform(col)\n",
    "        return output\n",
    "\n",
    "    def fit_transform(self,X,y=None):\n",
    "        return self.fit(X,y).transform(X)"
   ]
  },
  {
   "cell_type": "code",
   "execution_count": 39,
   "metadata": {},
   "outputs": [],
   "source": [
    "movie=MultiColumnLabelEncoder(columns = ['titleType', 'genres', 'directors', 'writers']).fit_transform(movie)"
   ]
  },
  {
   "cell_type": "code",
   "execution_count": 107,
   "metadata": {},
   "outputs": [],
   "source": [
    "#mov = movie.copy()\n",
    "#for feat in categorical_features:\n",
    "#    mov=pd.concat([mov, pd.get_dummies(mov[feat], prefix=feat, dummy_na=True)],axis=1)"
   ]
  },
  {
   "cell_type": "code",
   "execution_count": 108,
   "metadata": {},
   "outputs": [
    {
     "data": {
      "text/plain": [
       "183"
      ]
     },
     "execution_count": 108,
     "metadata": {},
     "output_type": "execute_result"
    }
   ],
   "source": [
    "import gc\n",
    "#del [[dfTitleRatings,dfTitleBasics,dfTitleCrew]] ##need to be a list\n",
    "#del[[movie_onehot]]\n",
    "#del[[mov]]\n",
    "gc.collect()\n"
   ]
  },
  {
   "cell_type": "code",
   "execution_count": 35,
   "metadata": {},
   "outputs": [],
   "source": [
    "# TODO: create a OneHotEncoder object, and fit it to all of X\n",
    "\n",
    "# 1. INSTANTIATE\n",
    "#enc = OneHotEncoder(sparse=True,categories='auto')\n",
    "#enc=LabelEncoder()\n",
    "# 2. FIT\n",
    "#enc.fit_transform(movie[categorical_features])\n",
    "# 3. Transform\n",
    "#onehotlabels = enc.transform(movie[categorical_features]).toarray()\n",
    "#onehotlabels.shape"
   ]
  },
  {
   "cell_type": "markdown",
   "metadata": {},
   "source": [
    "For numeric features, do the standardized transformation. This is necessary for advanced modeling, like distance based algorithm. If there is additional time, this part can be explored."
   ]
  },
  {
   "cell_type": "code",
   "execution_count": 51,
   "metadata": {},
   "outputs": [
    {
     "data": {
      "text/html": [
       "<div>\n",
       "<style scoped>\n",
       "    .dataframe tbody tr th:only-of-type {\n",
       "        vertical-align: middle;\n",
       "    }\n",
       "\n",
       "    .dataframe tbody tr th {\n",
       "        vertical-align: top;\n",
       "    }\n",
       "\n",
       "    .dataframe thead th {\n",
       "        text-align: right;\n",
       "    }\n",
       "</style>\n",
       "<table border=\"1\" class=\"dataframe\">\n",
       "  <thead>\n",
       "    <tr style=\"text-align: right;\">\n",
       "      <th></th>\n",
       "      <th>numVotes</th>\n",
       "      <th>runtimeMinutes</th>\n",
       "    </tr>\n",
       "  </thead>\n",
       "  <tbody>\n",
       "    <tr>\n",
       "      <td>2</td>\n",
       "      <td>-0.070605</td>\n",
       "      <td>-0.959009</td>\n",
       "    </tr>\n",
       "    <tr>\n",
       "      <td>3</td>\n",
       "      <td>-0.067755</td>\n",
       "      <td>-0.959009</td>\n",
       "    </tr>\n",
       "    <tr>\n",
       "      <td>4</td>\n",
       "      <td>-0.070331</td>\n",
       "      <td>-0.934921</td>\n",
       "    </tr>\n",
       "    <tr>\n",
       "      <td>5</td>\n",
       "      <td>-0.023458</td>\n",
       "      <td>-0.983097</td>\n",
       "    </tr>\n",
       "    <tr>\n",
       "      <td>6</td>\n",
       "      <td>-0.070386</td>\n",
       "      <td>5.857939</td>\n",
       "    </tr>\n",
       "  </tbody>\n",
       "</table>\n",
       "</div>"
      ],
      "text/plain": [
       "   numVotes  runtimeMinutes\n",
       "2 -0.070605       -0.959009\n",
       "3 -0.067755       -0.959009\n",
       "4 -0.070331       -0.934921\n",
       "5 -0.023458       -0.983097\n",
       "6 -0.070386        5.857939"
      ]
     },
     "execution_count": 51,
     "metadata": {},
     "output_type": "execute_result"
    }
   ],
   "source": [
    "scl=StandardScaler()\n",
    "movie[numeric_features]=scl.fit_transform(movie[numeric_features])\n",
    "movie[numeric_features].head() "
   ]
  },
  {
   "cell_type": "code",
   "execution_count": 37,
   "metadata": {},
   "outputs": [
    {
     "data": {
      "text/html": [
       "<div>\n",
       "<style scoped>\n",
       "    .dataframe tbody tr th:only-of-type {\n",
       "        vertical-align: middle;\n",
       "    }\n",
       "\n",
       "    .dataframe tbody tr th {\n",
       "        vertical-align: top;\n",
       "    }\n",
       "\n",
       "    .dataframe thead th {\n",
       "        text-align: right;\n",
       "    }\n",
       "</style>\n",
       "<table border=\"1\" class=\"dataframe\">\n",
       "  <thead>\n",
       "    <tr style=\"text-align: right;\">\n",
       "      <th></th>\n",
       "      <th>averageRating</th>\n",
       "      <th>numVotes</th>\n",
       "      <th>titleType</th>\n",
       "      <th>isAdult</th>\n",
       "      <th>startYear</th>\n",
       "      <th>runtimeMinutes</th>\n",
       "      <th>genres</th>\n",
       "      <th>directors</th>\n",
       "      <th>writers</th>\n",
       "    </tr>\n",
       "  </thead>\n",
       "  <tbody>\n",
       "    <tr>\n",
       "      <td>2</td>\n",
       "      <td>4.2</td>\n",
       "      <td>-0.070605</td>\n",
       "      <td>1</td>\n",
       "      <td>0</td>\n",
       "      <td>1912</td>\n",
       "      <td>-0.959009</td>\n",
       "      <td>1392</td>\n",
       "      <td>278</td>\n",
       "      <td>208384</td>\n",
       "    </tr>\n",
       "    <tr>\n",
       "      <td>3</td>\n",
       "      <td>6.8</td>\n",
       "      <td>-0.067755</td>\n",
       "      <td>1</td>\n",
       "      <td>0</td>\n",
       "      <td>1912</td>\n",
       "      <td>-0.959009</td>\n",
       "      <td>1759</td>\n",
       "      <td>278</td>\n",
       "      <td>128580</td>\n",
       "    </tr>\n",
       "    <tr>\n",
       "      <td>4</td>\n",
       "      <td>6.8</td>\n",
       "      <td>-0.070331</td>\n",
       "      <td>1</td>\n",
       "      <td>0</td>\n",
       "      <td>1912</td>\n",
       "      <td>-0.934921</td>\n",
       "      <td>1782</td>\n",
       "      <td>35716</td>\n",
       "      <td>120687</td>\n",
       "    </tr>\n",
       "    <tr>\n",
       "      <td>5</td>\n",
       "      <td>5.1</td>\n",
       "      <td>-0.023458</td>\n",
       "      <td>1</td>\n",
       "      <td>0</td>\n",
       "      <td>1914</td>\n",
       "      <td>-0.983097</td>\n",
       "      <td>1017</td>\n",
       "      <td>52523</td>\n",
       "      <td>382</td>\n",
       "    </tr>\n",
       "    <tr>\n",
       "      <td>6</td>\n",
       "      <td>5.8</td>\n",
       "      <td>-0.070386</td>\n",
       "      <td>0</td>\n",
       "      <td>0</td>\n",
       "      <td>1914</td>\n",
       "      <td>5.857939</td>\n",
       "      <td>0</td>\n",
       "      <td>24870</td>\n",
       "      <td>66689</td>\n",
       "    </tr>\n",
       "  </tbody>\n",
       "</table>\n",
       "</div>"
      ],
      "text/plain": [
       "   averageRating  numVotes  titleType  isAdult  startYear  runtimeMinutes  \\\n",
       "2            4.2 -0.070605          1        0       1912       -0.959009   \n",
       "3            6.8 -0.067755          1        0       1912       -0.959009   \n",
       "4            6.8 -0.070331          1        0       1912       -0.934921   \n",
       "5            5.1 -0.023458          1        0       1914       -0.983097   \n",
       "6            5.8 -0.070386          0        0       1914        5.857939   \n",
       "\n",
       "   genres  directors  writers  \n",
       "2    1392        278   208384  \n",
       "3    1759        278   128580  \n",
       "4    1782      35716   120687  \n",
       "5    1017      52523      382  \n",
       "6       0      24870    66689  "
      ]
     },
     "execution_count": 37,
     "metadata": {},
     "output_type": "execute_result"
    }
   ],
   "source": [
    "movie.describe()\n",
    "movie.head()"
   ]
  },
  {
   "cell_type": "code",
   "execution_count": null,
   "metadata": {},
   "outputs": [],
   "source": [
    "mov=movie.copy()\n",
    "scl=StandardScaler()\n",
    "movie[numeric_features]=scl.fit_transform(movie[numeric_features])\n",
    "movie[numeric_features].head() "
   ]
  },
  {
   "cell_type": "markdown",
   "metadata": {},
   "source": [
    "# Build Models"
   ]
  },
  {
   "cell_type": "markdown",
   "metadata": {},
   "source": [
    "Although the linear regression assumptions are not satisfied, the linear regression is still built to do comparision with other models."
   ]
  },
  {
   "cell_type": "code",
   "execution_count": 111,
   "metadata": {},
   "outputs": [
    {
     "name": "stdout",
     "output_type": "stream",
     "text": [
      "0.06129688211190187\n",
      "0.061296882111901874\n",
      "1.3405029634062784\n"
     ]
    }
   ],
   "source": [
    "### Linear Model\n",
    "\n",
    "X=movie.loc[:, movie.columns != \"averageRating\"]\n",
    "y=labels\n",
    "X_train, X_test, y_train, y_test = train_test_split(X, y, test_size=0.2, random_state=1) #split data set\n",
    "\n",
    "lr = LinearRegression(normalize=True)\n",
    "lr.fit(X_train,y_train)\n",
    "y_pred = lr.predict(X_test)\n",
    "#print(lr.score(X_train,y_train))\n",
    "print(lr.score(X_test,y_test))\n",
    "print(r2_score(y_test,y_pred))\n",
    "# calculate RMSE using scikit-learn\n",
    "print(np.sqrt(mean_squared_error(y_test,y_pred)))"
   ]
  },
  {
   "cell_type": "markdown",
   "metadata": {},
   "source": [
    "We can see that the R square is 0.060365792914010674. It is very small. It confirms the previous conclusion: the linear relationship doesn't exist. But the The Root Mean Squared Error  is 1.3405029634062784. It is small. Although the linear regression doesn't fit well, it can predict pretty good average rating."
   ]
  },
  {
   "cell_type": "code",
   "execution_count": 113,
   "metadata": {},
   "outputs": [
    {
     "data": {
      "text/plain": [
       "Text(0, 0.5, 'residules')"
      ]
     },
     "execution_count": 113,
     "metadata": {},
     "output_type": "execute_result"
    },
    {
     "data": {
      "image/png": "[encoded data removed]",
      "text/plain": [
       "<Figure size 432x288 with 1 Axes>"
      ]
     },
     "metadata": {
      "needs_background": "light"
     },
     "output_type": "display_data"
    }
   ],
   "source": [
    "y_pred_train=lr.predict(X_train)\n",
    "residual = y_train- y_pred_train\n",
    "_ = plt.scatter(residual, y_pred_train)\n",
    "plt.xlabel('preditted values')\n",
    "plt.ylabel('residules')"
   ]
  },
  {
   "cell_type": "code",
   "execution_count": 114,
   "metadata": {},
   "outputs": [
    {
     "data": {
      "image/png": "[encoded data removed]",
      "text/plain": [
       "<Figure size 432x288 with 1 Axes>"
      ]
     },
     "metadata": {
      "needs_background": "light"
     },
     "output_type": "display_data"
    }
   ],
   "source": [
    "qqplot(residual, line='s')\n",
    "plt.show()"
   ]
  },
  {
   "cell_type": "code",
   "execution_count": 39,
   "metadata": {},
   "outputs": [
    {
     "name": "stdout",
     "output_type": "stream",
     "text": [
      "-4.542829243829906\n",
      "[ 4.17491430e-02  6.67870102e-02 -8.90849834e-01  5.75778219e-03\n",
      " -2.37160353e-01 -1.32003442e-04 -1.75939157e-07 -2.86377211e-07]\n"
     ]
    }
   ],
   "source": [
    "# print the intercept and coefficients\n",
    "print(lr.intercept_)\n",
    "print(lr.coef_)"
   ]
  },
  {
   "cell_type": "code",
   "execution_count": 58,
   "metadata": {},
   "outputs": [],
   "source": [
    "## Polynomial Regression\n",
    "\n",
    "XPol= PolynomialFeatures(degree=2, include_bias=False).fit_transform(X_train)\n",
    "lrPol = LinearRegression().fit(XPol, y_train)"
   ]
  },
  {
   "cell_type": "code",
   "execution_count": 59,
   "metadata": {},
   "outputs": [
    {
     "name": "stdout",
     "output_type": "stream",
     "text": [
      "0.1443656802348655\n",
      "0.14507144355839208\n",
      "1.2792886890811008\n"
     ]
    }
   ],
   "source": [
    "XPolT= PolynomialFeatures(degree=2, include_bias=False).fit_transform(X_test)\n",
    "y_pred = lrPol.predict(XPolT)\n",
    "print(lrPol.score(XPol,y_train))\n",
    "print(r2_score(y_test,y_pred))\n",
    "print(np.sqrt(mean_squared_error(y_test,y_pred)))"
   ]
  },
  {
   "cell_type": "markdown",
   "metadata": {},
   "source": [
    "The Root Mean Squared Error is 1.2792886890811008. It is smaller than 1.3405029634062784. This model is a little improved compared to the previous linear regression. "
   ]
  },
  {
   "cell_type": "markdown",
   "metadata": {},
   "source": [
    "Since Decision Tree and Random Forest can capture non-linear relationship well, I wil fit these two models to see if better prediction can be achieved."
   ]
  },
  {
   "cell_type": "code",
   "execution_count": 105,
   "metadata": {},
   "outputs": [
    {
     "data": {
      "text/plain": [
       "DecisionTreeRegressor(criterion='mse', max_depth=None, max_features=None,\n",
       "                      max_leaf_nodes=None, min_impurity_decrease=0.0,\n",
       "                      min_impurity_split=None, min_samples_leaf=0.15,\n",
       "                      min_samples_split=2, min_weight_fraction_leaf=0.0,\n",
       "                      presort=False, random_state=1, splitter='best')"
      ]
     },
     "execution_count": 105,
     "metadata": {},
     "output_type": "execute_result"
    }
   ],
   "source": [
    "## Decision Tree Regression\n",
    "\n",
    "regressor = DecisionTreeRegressor( min_samples_leaf=0.15,random_state = 1)  # create a regressor object \n",
    "regressor.fit(X_train, y_train) # fit the regressor "
   ]
  },
  {
   "cell_type": "code",
   "execution_count": 96,
   "metadata": {},
   "outputs": [
    {
     "data": {
      "text/html": [
       "<div>\n",
       "<style scoped>\n",
       "    .dataframe tbody tr th:only-of-type {\n",
       "        vertical-align: middle;\n",
       "    }\n",
       "\n",
       "    .dataframe tbody tr th {\n",
       "        vertical-align: top;\n",
       "    }\n",
       "\n",
       "    .dataframe thead th {\n",
       "        text-align: right;\n",
       "    }\n",
       "</style>\n",
       "<table border=\"1\" class=\"dataframe\">\n",
       "  <thead>\n",
       "    <tr style=\"text-align: right;\">\n",
       "      <th></th>\n",
       "      <th>Actual</th>\n",
       "      <th>Predicted</th>\n",
       "    </tr>\n",
       "  </thead>\n",
       "  <tbody>\n",
       "    <tr>\n",
       "      <td>850479</td>\n",
       "      <td>7.7</td>\n",
       "      <td>7.8</td>\n",
       "    </tr>\n",
       "    <tr>\n",
       "      <td>412095</td>\n",
       "      <td>8.2</td>\n",
       "      <td>8.5</td>\n",
       "    </tr>\n",
       "    <tr>\n",
       "      <td>838616</td>\n",
       "      <td>7.6</td>\n",
       "      <td>7.5</td>\n",
       "    </tr>\n",
       "    <tr>\n",
       "      <td>706338</td>\n",
       "      <td>8.5</td>\n",
       "      <td>8.0</td>\n",
       "    </tr>\n",
       "    <tr>\n",
       "      <td>390848</td>\n",
       "      <td>7.8</td>\n",
       "      <td>7.5</td>\n",
       "    </tr>\n",
       "    <tr>\n",
       "      <td>...</td>\n",
       "      <td>...</td>\n",
       "      <td>...</td>\n",
       "    </tr>\n",
       "    <tr>\n",
       "      <td>722934</td>\n",
       "      <td>7.4</td>\n",
       "      <td>7.7</td>\n",
       "    </tr>\n",
       "    <tr>\n",
       "      <td>949893</td>\n",
       "      <td>8.3</td>\n",
       "      <td>9.5</td>\n",
       "    </tr>\n",
       "    <tr>\n",
       "      <td>92668</td>\n",
       "      <td>5.9</td>\n",
       "      <td>6.0</td>\n",
       "    </tr>\n",
       "    <tr>\n",
       "      <td>289387</td>\n",
       "      <td>6.8</td>\n",
       "      <td>5.7</td>\n",
       "    </tr>\n",
       "    <tr>\n",
       "      <td>403029</td>\n",
       "      <td>6.3</td>\n",
       "      <td>5.5</td>\n",
       "    </tr>\n",
       "  </tbody>\n",
       "</table>\n",
       "<p>141621 rows × 2 columns</p>\n",
       "</div>"
      ],
      "text/plain": [
       "        Actual  Predicted\n",
       "850479     7.7        7.8\n",
       "412095     8.2        8.5\n",
       "838616     7.6        7.5\n",
       "706338     8.5        8.0\n",
       "390848     7.8        7.5\n",
       "...        ...        ...\n",
       "722934     7.4        7.7\n",
       "949893     8.3        9.5\n",
       "92668      5.9        6.0\n",
       "289387     6.8        5.7\n",
       "403029     6.3        5.5\n",
       "\n",
       "[141621 rows x 2 columns]"
      ]
     },
     "execution_count": 96,
     "metadata": {},
     "output_type": "execute_result"
    }
   ],
   "source": [
    "y_pred = regressor.predict(X_test) \n",
    "df=pd.DataFrame({'Actual':y_test, 'Predicted':y_pred})\n",
    "df"
   ]
  },
  {
   "cell_type": "markdown",
   "metadata": {},
   "source": [
    "We can see that the predicted value and the actural value are not so far away with each other."
   ]
  },
  {
   "cell_type": "code",
   "execution_count": 106,
   "metadata": {},
   "outputs": [
    {
     "name": "stdout",
     "output_type": "stream",
     "text": [
      "Mean Absolute Error: 0.9571484252278255\n",
      "Mean Squared Error: 1.5994051810676255\n",
      "Root Mean Squared Error: 1.2646759193831538\n"
     ]
    }
   ],
   "source": [
    "print('Mean Absolute Error:', mean_absolute_error(y_test, y_pred))\n",
    "print('Mean Squared Error:', mean_squared_error(y_test, y_pred))\n",
    "print('Root Mean Squared Error:', np.sqrt(mean_squared_error(y_test, y_pred)))"
   ]
  },
  {
   "cell_type": "markdown",
   "metadata": {},
   "source": [
    "The Root Mean Squared Error is 1.4109823340941219. It is close to the the corresponing values in the previous models."
   ]
  },
  {
   "cell_type": "code",
   "execution_count": 103,
   "metadata": {},
   "outputs": [
    {
     "data": {
      "text/plain": [
       "DecisionTreeRegressor(criterion='mse', max_depth=8, max_features=None,\n",
       "                      max_leaf_nodes=None, min_impurity_decrease=0.0,\n",
       "                      min_impurity_split=None, min_samples_leaf=0.15,\n",
       "                      min_samples_split=2, min_weight_fraction_leaf=0.0,\n",
       "                      presort=False, random_state=1, splitter='best')"
      ]
     },
     "execution_count": 103,
     "metadata": {},
     "output_type": "execute_result"
    }
   ],
   "source": [
    "# Instantiate dt\n",
    "dt = DecisionTreeRegressor(max_depth=8,\n",
    "             min_samples_leaf=0.15,\n",
    "            random_state=1)\n",
    "\n",
    "# Fit dt to the training set\n",
    "dt.fit(X_train,y_train)"
   ]
  },
  {
   "cell_type": "code",
   "execution_count": 104,
   "metadata": {},
   "outputs": [
    {
     "name": "stdout",
     "output_type": "stream",
     "text": [
      "Test set RMSE of dt: 1.264676\n"
     ]
    }
   ],
   "source": [
    "# Compute y_pred\n",
    "y_pred =dt.predict(X_test)\n",
    "\n",
    "# Compute mse_dt\n",
    "mse_dt=mean_squared_error(y_test,y_pred)\n",
    "\n",
    "# Compute rmse_dt\n",
    "rmse_dt=mse_dt**(0.5)\n",
    "##### No sqrt\n",
    "# Print rmse_dt\n",
    "print(\"Test set RMSE of dt: {:f}\".format(rmse_dt))"
   ]
  },
  {
   "cell_type": "code",
   "execution_count": 73,
   "metadata": {},
   "outputs": [
    {
     "name": "stdout",
     "output_type": "stream",
     "text": [
      "CV RMSE: 1.26\n"
     ]
    }
   ],
   "source": [
    "from sklearn.model_selection import cross_val_score \n",
    "# Compute the array containing the 10-folds CV MSEs\n",
    "MSE_CV_scores = - cross_val_score(dt,X_train,y_train, cv=10, \n",
    "                       scoring='neg_mean_squared_error',\n",
    "                       n_jobs=-1)\n",
    "\n",
    "# Compute the 10-folds CV RMSE\n",
    "RMSE_CV = (MSE_CV_scores.mean())**(0.5)\n",
    "#### mean()\n",
    "\n",
    "# Print RMSE_CV\n",
    "print('CV RMSE: {:.2f}'.format(RMSE_CV))"
   ]
  },
  {
   "cell_type": "code",
   "execution_count": 74,
   "metadata": {},
   "outputs": [
    {
     "name": "stdout",
     "output_type": "stream",
     "text": [
      "Train RMSE: 1.26\n"
     ]
    }
   ],
   "source": [
    "# Fit dt to the training set\n",
    "dt.fit(X_train,y_train)\n",
    "\n",
    "# Predict the labels of the training set\n",
    "y_pred_train = dt.predict(X_train)\n",
    "\n",
    "# Evaluate the training set RMSE of dt\n",
    "RMSE_train = (mean_squared_error(y_train,y_pred_train))**(0.5)\n",
    "\n",
    "# Print RMSE_train\n",
    "print('Train RMSE: {:.2f}'.format(RMSE_train))"
   ]
  },
  {
   "cell_type": "code",
   "execution_count": 79,
   "metadata": {},
   "outputs": [
    {
     "data": {
      "text/plain": [
       "RandomForestRegressor(bootstrap=True, criterion='mse', max_depth=None,\n",
       "                      max_features='auto', max_leaf_nodes=None,\n",
       "                      min_impurity_decrease=0.0, min_impurity_split=None,\n",
       "                      min_samples_leaf=1, min_samples_split=2,\n",
       "                      min_weight_fraction_leaf=0.0, n_estimators=50,\n",
       "                      n_jobs=None, oob_score=False, random_state=2, verbose=0,\n",
       "                      warm_start=False)"
      ]
     },
     "execution_count": 79,
     "metadata": {},
     "output_type": "execute_result"
    }
   ],
   "source": [
    "## Random Forest Regression\n",
    "\n",
    "rf = RandomForestRegressor(n_estimators = 50, random_state = 2) # Instantiate model with 50 decision trees\n",
    "rf.fit(X_train, y_train) # Train the model on training data"
   ]
  },
  {
   "cell_type": "code",
   "execution_count": 80,
   "metadata": {},
   "outputs": [
    {
     "name": "stdout",
     "output_type": "stream",
     "text": [
      "Mean Absolute Error: 0.72\n",
      "Root Mean Squared Error: 1.0262960327587543\n"
     ]
    }
   ],
   "source": [
    "predictions = rf.predict(X_test) # Use the forest's predict method on the test data\n",
    "errors = abs(predictions - y_test) # Calculate the absolute errors\n",
    "# Print out the mean absolute error (mae)\n",
    "print('Mean Absolute Error:', round(np.mean(errors), 2))\n",
    "print('Root Mean Squared Error:', np.sqrt(mean_squared_error(y_test, y_pred)))"
   ]
  },
  {
   "cell_type": "markdown",
   "metadata": {},
   "source": [
    "The Root Mean Squared Error is 1.4109823340941219. It gets the same accuracy as the decision tree regression."
   ]
  },
  {
   "cell_type": "code",
   "execution_count": 48,
   "metadata": {},
   "outputs": [
    {
     "name": "stdout",
     "output_type": "stream",
     "text": [
      "Accuracy: 87.07 %.\n"
     ]
    }
   ],
   "source": [
    "# Calculate mean absolute percentage error (MAPE)\n",
    "mape = 100 * (errors / y_test)\n",
    "# Calculate and display accuracy\n",
    "accuracy = 100 - np.mean(mape)\n",
    "print('Accuracy:', round(accuracy, 2), '%.')"
   ]
  },
  {
   "cell_type": "markdown",
   "metadata": {},
   "source": [
    "The accuracy is 87.07 %. The model predicts pretty well."
   ]
  },
  {
   "cell_type": "code",
   "execution_count": 75,
   "metadata": {},
   "outputs": [
    {
     "data": {
      "text/plain": [
       "RandomForestRegressor(bootstrap=True, criterion='mse', max_depth=None,\n",
       "                      max_features='auto', max_leaf_nodes=None,\n",
       "                      min_impurity_decrease=0.0, min_impurity_split=None,\n",
       "                      min_samples_leaf=1, min_samples_split=2,\n",
       "                      min_weight_fraction_leaf=0.0, n_estimators=25,\n",
       "                      n_jobs=None, oob_score=False, random_state=2, verbose=0,\n",
       "                      warm_start=False)"
      ]
     },
     "execution_count": 75,
     "metadata": {},
     "output_type": "execute_result"
    }
   ],
   "source": [
    "# Instantiate rf\n",
    "rf = RandomForestRegressor(n_estimators=25,\n",
    "            random_state=2)\n",
    "            \n",
    "# Fit rf to the training set    \n",
    "rf.fit(X_train,y_train) "
   ]
  },
  {
   "cell_type": "code",
   "execution_count": 76,
   "metadata": {},
   "outputs": [
    {
     "name": "stdout",
     "output_type": "stream",
     "text": [
      "Test set RMSE of rf: 1.03\n"
     ]
    }
   ],
   "source": [
    "# Predict the test set labels\n",
    "y_pred = rf.predict(X_test)\n",
    "\n",
    "# Evaluate the test set RMSE\n",
    "rmse_test =mean_squared_error(y_test,y_pred)**0.5\n",
    "\n",
    "# Print rmse_test\n",
    "print('Test set RMSE of rf: {:.2f}'.format(rmse_test))"
   ]
  },
  {
   "cell_type": "code",
   "execution_count": 93,
   "metadata": {},
   "outputs": [
    {
     "name": "stdout",
     "output_type": "stream",
     "text": [
      "Root Mean Squared Error:1.026296\n"
     ]
    }
   ],
   "source": [
    "print('Root Mean Squared Error:{:.6f}'.format(np.sqrt(mean_squared_error(y_test, y_pred))))"
   ]
  },
  {
   "cell_type": "code",
   "execution_count": 94,
   "metadata": {},
   "outputs": [
    {
     "data": {
      "text/html": [
       "<div>\n",
       "<style scoped>\n",
       "    .dataframe tbody tr th:only-of-type {\n",
       "        vertical-align: middle;\n",
       "    }\n",
       "\n",
       "    .dataframe tbody tr th {\n",
       "        vertical-align: top;\n",
       "    }\n",
       "\n",
       "    .dataframe thead th {\n",
       "        text-align: right;\n",
       "    }\n",
       "</style>\n",
       "<table border=\"1\" class=\"dataframe\">\n",
       "  <thead>\n",
       "    <tr style=\"text-align: right;\">\n",
       "      <th></th>\n",
       "      <th>Actual</th>\n",
       "      <th>Predicted</th>\n",
       "    </tr>\n",
       "  </thead>\n",
       "  <tbody>\n",
       "    <tr>\n",
       "      <td>850479</td>\n",
       "      <td>7.7</td>\n",
       "      <td>7.832</td>\n",
       "    </tr>\n",
       "    <tr>\n",
       "      <td>412095</td>\n",
       "      <td>8.2</td>\n",
       "      <td>8.348</td>\n",
       "    </tr>\n",
       "    <tr>\n",
       "      <td>838616</td>\n",
       "      <td>7.6</td>\n",
       "      <td>7.684</td>\n",
       "    </tr>\n",
       "    <tr>\n",
       "      <td>706338</td>\n",
       "      <td>8.5</td>\n",
       "      <td>7.192</td>\n",
       "    </tr>\n",
       "    <tr>\n",
       "      <td>390848</td>\n",
       "      <td>7.8</td>\n",
       "      <td>7.504</td>\n",
       "    </tr>\n",
       "  </tbody>\n",
       "</table>\n",
       "</div>"
      ],
      "text/plain": [
       "        Actual  Predicted\n",
       "850479     7.7      7.832\n",
       "412095     8.2      8.348\n",
       "838616     7.6      7.684\n",
       "706338     8.5      7.192\n",
       "390848     7.8      7.504"
      ]
     },
     "execution_count": 94,
     "metadata": {},
     "output_type": "execute_result"
    }
   ],
   "source": [
    "df=pd.DataFrame({'Actual':y_test, 'Predicted':y_pred})\n",
    "df.head()"
   ]
  },
  {
   "cell_type": "code",
   "execution_count": 78,
   "metadata": {},
   "outputs": [
    {
     "data": {
      "image/png": "[encoded data removed]",
      "text/plain": [
       "<Figure size 432x288 with 1 Axes>"
      ]
     },
     "metadata": {
      "needs_background": "light"
     },
     "output_type": "display_data"
    }
   ],
   "source": [
    "# Create a pd.Series of features importances\n",
    "importances = pd.Series(data=rf.feature_importances_,\n",
    "                        index= X_train.columns)\n",
    "\n",
    "# Sort importances\n",
    "importances_sorted = importances.sort_values()\n",
    "### sort_values() NOT sorted_values\n",
    "# Draw a horizontal barplot of importances_sorted\n",
    "#importances_sorted.plot(kind='barh', color ='lightgreen')\n",
    "importances_sorted.plot(kind='bar')\n",
    "plt.title('Features Importances')\n",
    "plt.show()"
   ]
  },
  {
   "cell_type": "markdown",
   "metadata": {},
   "source": [
    "# Future Work"
   ]
  },
  {
   "cell_type": "markdown",
   "metadata": {},
   "source": [
    "If there are additional time, I would like to explore the rest data sets among those seven data sets on IMDb website. When cleaning the data, I saw that the variable genres has more specific descriptions. They are strings separated by comma. Next time, I can split genres into several variable, then create a few more categorical variables. For recoding part, I wonder if model will be improved when one hot encoder is used instead of the label encoder. For model buiding part, I would like to try machine learning pipeline. I think this can produce more complex models and give better prediction."
   ]
  }
 ],
 "metadata": {
  "kernelspec": {
   "display_name": "Python 3",
   "language": "python",
   "name": "python3"
  },
  "language_info": {
   "codemirror_mode": {
    "name": "ipython",
    "version": 3
   },
   "file_extension": ".py",
   "mimetype": "text/x-python",
   "name": "python",
   "nbconvert_exporter": "python",
   "pygments_lexer": "ipython3",
   "version": "3.7.4"
  }
 },
 "nbformat": 4,
 "nbformat_minor": 2
}
